{
 "cells": [
  {
   "cell_type": "code",
   "execution_count": 2,
   "metadata": {},
   "outputs": [],
   "source": [
    "import numpy as np\n",
    "import pandas as pd\n",
    "import matplotlib.pyplot as plt\n",
    "from sklearn import datasets\n",
    "from sklearn.model_selection import train_test_split\n",
    "from sklearn.svm import OneClassSVM\n",
    "from sklearn.naive_bayes import GaussianNB\n",
    "from sklearn.ensemble import IsolationForest, RandomForestClassifier\n",
    "from sklearn.metrics import accuracy_score\n",
    "\n",
    "from sklearn.cluster import KMeans\n",
    "\n",
    "from typing import *"
   ]
  },
  {
   "cell_type": "code",
   "execution_count": 3,
   "metadata": {},
   "outputs": [],
   "source": [
    "def make_binary(labels: List, positive: List = []):\n",
    "  '''convert multiple classification into binary classification'''\n",
    "  return [int(l in positive) for l in labels]\n",
    "\n",
    "def make_positive(data: List[List], labels: List):\n",
    "  '''filter out positive samples'''\n",
    "  new_data = [row for i, row in enumerate(data) if labels[i] == 1]\n",
    "  new_label = np.array([1]*len(new_data))\n",
    "  return new_data, new_label\n",
    "\n",
    "def make_one_class(data: List[List], labels: List):\n",
    "  '''filter multiple classes into separate one classes'''\n",
    "  uniq_labels = np.unique(labels)\n",
    "  return [[row for i, row in enumerate(data) if labels[i] == l] for l in uniq_labels]\n",
    "\n",
    "def multi_one_class_predict(data, oneK_classifiers):\n",
    "  '''Ensemble classifier. return 1 when atleast one of the classifiers labels as positive. else 0'''\n",
    "  preds = []\n",
    "  for row in data:\n",
    "    res = [okc.predict([row])[0] for okc in oneK_classifiers]\n",
    "    preds.append(int(1 in res))\n",
    "  return preds"
   ]
  },
  {
   "cell_type": "code",
   "execution_count": 15,
   "metadata": {},
   "outputs": [],
   "source": [
    "# prepare data\n",
    "# save 20% for testing\n",
    "# rest is used for tarining one-class and two-class classifiers\n",
    "\n",
    "data = datasets.load_iris( )\n",
    "X = data.data\n",
    "y = make_binary(data.target, [0, 1])\n",
    "X_train, X_test, y_train, y_test = train_test_split(X, y, test_size=0.2, random_state=42)\n",
    "X_train_1c, y_train_1c = make_positive(X_train, y_train)\n",
    "X_train_2c, y_train_2c = X_train, y_train"
   ]
  },
  {
   "cell_type": "code",
   "execution_count": 16,
   "metadata": {},
   "outputs": [
    {
     "data": {
      "text/plain": [
       "array([0.3       , 0.46333333, 0.99933333, 0.93333333])"
      ]
     },
     "execution_count": 16,
     "metadata": {},
     "output_type": "execute_result"
    }
   ],
   "source": [
    "def without_clustering():\n",
    "  ocsvm = OneClassSVM(kernel='rbf', degree=3, gamma='scale', coef0=0.0, tol=0.001, nu=0.5, shrinking=True, cache_size=200, verbose=False, max_iter=-1)\n",
    "  ocrf = IsolationForest(n_estimators=10, max_samples='auto', contamination='auto', max_features=1.0, bootstrap=False, n_jobs=None, random_state=None, verbose=0, warm_start=False)\n",
    "  tcrf = RandomForestClassifier(n_estimators=10, criterion='gini', max_depth=None, min_samples_split=2, min_samples_leaf=1, min_weight_fraction_leaf=0.0, max_features='sqrt', max_leaf_nodes=None, min_impurity_decrease=0.0, bootstrap=True, oob_score=False, n_jobs=None, random_state=None, verbose=0, warm_start=False, class_weight=None, ccp_alpha=0.0, max_samples=None)\n",
    "  tcnb = GaussianNB(priors=None, var_smoothing=1e-09)\n",
    "\n",
    "  ocsvm.fit(X_train_1c)\n",
    "  ocrf.fit(X_train_1c)\n",
    "  tcrf.fit(X_train_2c, y_train_2c)\n",
    "  tcnb.fit(X_train_2c, y_train_2c)\n",
    "\n",
    "  y_pred_ocsvm = ocsvm.predict(X_test)\n",
    "  y_pred_ocrf = ocrf.predict(X_test)\n",
    "  y_pred_tcrf = tcrf.predict(X_test)\n",
    "  y_pred_tcnb = tcnb.predict(X_test)\n",
    "\n",
    "  acc_ocsvm = accuracy_score(y_test, y_pred_ocsvm)\n",
    "  acc_ocrf = accuracy_score(y_test, y_pred_ocrf)\n",
    "  acc_tcrf = accuracy_score(y_test, y_pred_tcrf)\n",
    "  acc_tcnb = accuracy_score(y_test, y_pred_tcnb)\n",
    "\n",
    "  return acc_ocsvm, acc_ocrf, acc_tcrf, acc_tcnb\n",
    "\n",
    "# test with 100 repetitions\n",
    "# consider mean of all test results for final accuracy\n",
    "np.mean([without_clustering() for _ in range(0,100)], axis=0)"
   ]
  },
  {
   "cell_type": "code",
   "execution_count": 17,
   "metadata": {},
   "outputs": [
    {
     "name": "stdout",
     "output_type": "stream",
     "text": [
      "1\t0.6666666666666667\t0.8433333333333334\n",
      "2\t0.7000000000000001\t0.8233333333333335\n",
      "3\t0.7000000000000001\t0.8566666666666667\n",
      "4\t0.7366666666666666\t0.79\n",
      "5\t0.7066666666666668\t0.7666666666666666\n",
      "6\t0.5900000000000001\t0.8066666666666666\n",
      "7\t0.5999999999999999\t0.7566666666666666\n",
      "8\t0.5633333333333334\t0.8600000000000001\n",
      "9\t0.5833333333333333\t0.6966666666666665\n"
     ]
    }
   ],
   "source": [
    "def with_clustering(n: int):\n",
    "  # use k means clustering first\n",
    "  km = KMeans(n_clusters=n, init='k-means++', n_init=10, max_iter=300, tol=0.0001, random_state=None)\n",
    "  clusters = km.fit_predict(X_train_1c)\n",
    "  oneKs = make_one_class(X_train_1c, clusters)\n",
    "  # on each cluster, train a one class classifier\n",
    "  ocsvms = [OneClassSVM(kernel='rbf', degree=3, gamma='scale', coef0=0.0, tol=0.001, nu=0.5, shrinking=True, cache_size=200, verbose=False, max_iter=-1).fit(oneK) for oneK in oneKs]\n",
    "  ocrfs = [IsolationForest(n_estimators=10, max_samples='auto', contamination='auto', max_features=1.0, bootstrap=False, n_jobs=None, random_state=None, verbose=0, warm_start=False).fit(oneK) for oneK in oneKs]\n",
    "  # get predictions\n",
    "  y_pred_mocsvm = multi_one_class_predict(X_test, ocsvms)\n",
    "  y_pred_mocrf= multi_one_class_predict(X_test, ocrfs)\n",
    "  # compute accuracy\n",
    "  acc_mocsvm = accuracy_score(y_test, y_pred_mocsvm)\n",
    "  acc_mocrf = accuracy_score(y_test, y_pred_mocrf)\n",
    "  return acc_mocsvm, acc_mocrf\n",
    "\n",
    "# test with 100 repetitions\n",
    "# consider mean of all test results for final accuracy\n",
    "for n in range(1,10):\n",
    "  res = np.mean([with_clustering(n) for _ in range(0,100)], axis=0)\n",
    "  out = \"\\t\".join([str(acc) for acc in res])\n",
    "  print(f'{n}\\t{out}')"
   ]
  }
 ],
 "metadata": {
  "kernelspec": {
   "display_name": "Python 3.10.6 ('base')",
   "language": "python",
   "name": "python3"
  },
  "language_info": {
   "codemirror_mode": {
    "name": "ipython",
    "version": 3
   },
   "file_extension": ".py",
   "mimetype": "text/x-python",
   "name": "python",
   "nbconvert_exporter": "python",
   "pygments_lexer": "ipython3",
   "version": "3.10.6"
  },
  "orig_nbformat": 4,
  "vscode": {
   "interpreter": {
    "hash": "d4d1e4263499bec80672ea0156c357c1ee493ec2b1c70f0acce89fc37c4a6abe"
   }
  }
 },
 "nbformat": 4,
 "nbformat_minor": 2
}
